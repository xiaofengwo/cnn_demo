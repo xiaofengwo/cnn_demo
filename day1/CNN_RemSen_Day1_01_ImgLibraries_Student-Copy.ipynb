{
  "cells": [
    {
      "cell_type": "markdown",
      "metadata": {
        "pycharm": {}
      },
      "source": [
        "# Image File Read"
      ]
    },
    {
      "cell_type": "markdown",
      "metadata": {
        "pycharm": {}
      },
      "source": [
        "### OpenCV"
      ]
    },
    {
      "cell_type": "code",
      "execution_count": null,
      "metadata": {
        "pycharm": {}
      },
      "outputs": [],
      "source": "# import OpenCV, your code here\nimport cv2\n\nimg_cv2 \u003d cv2.imread(\u0027OIP.jpg\u0027)\n\nprint(type(img_cv2))"
    },
    {
      "cell_type": "code",
      "execution_count": null,
      "metadata": {
        "pycharm": {}
      },
      "outputs": [],
      "source": [
        "# print shape and data type of the image, your code here\n",
        "print(img_cv2.___ ,img_cv2.___)"
      ]
    },
    {
      "cell_type": "code",
      "execution_count": null,
      "metadata": {
        "pycharm": {}
      },
      "outputs": [],
      "source": [
        "cv2.imshow(\u0027image\u0027,img_cv2)\n",
        "k \u003d cv2.waitKey(0)\n",
        "if k \u003d\u003d 27:         # wait for ESC key to exit\n",
        "    cv2.destroyAllWindows()\n",
        "elif k \u003d\u003d ord(\u0027s\u0027): # wait for \u0027s\u0027 key to save and exit\n",
        "    cv2.imwrite(\u0027OIP_1.png\u0027,img)\n",
        "    cv2.destroyAllWindows()"
      ]
    },
    {
      "cell_type": "markdown",
      "metadata": {
        "pycharm": {}
      },
      "source": [
        "### matplotlib"
      ]
    },
    {
      "cell_type": "code",
      "execution_count": null,
      "metadata": {
        "pycharm": {}
      },
      "outputs": [],
      "source": [
        "import matplotlib.pyplot as plt\n",
        "\n",
        "# matplotlib image to read file\n",
        "img \u003d plt.imread(r\"OIP.jpg\")  \n",
        "\n",
        "# print type, shape and data type of the image, your code here\n",
        "print((__img),img.__,img.__)"
      ]
    },
    {
      "cell_type": "code",
      "execution_count": null,
      "metadata": {
        "scrolled": true,
        "pycharm": {}
      },
      "outputs": [],
      "source": [
        "# show the image\n",
        "plt.___(img)\n",
        "# to hide tick values on X and Y axis\n",
        "plt.xticks([]), plt.yticks([])  \n",
        "plt.show()"
      ]
    },
    {
      "cell_type": "markdown",
      "metadata": {
        "pycharm": {}
      },
      "source": [
        "Use matplotlib to show cv2 opened image"
      ]
    },
    {
      "cell_type": "code",
      "execution_count": null,
      "metadata": {
        "pycharm": {}
      },
      "outputs": [],
      "source": [
        "plt.imshow(img_cv2)\n",
        "plt.xticks([]), plt.yticks([]) \n",
        "plt.show()"
      ]
    },
    {
      "cell_type": "markdown",
      "metadata": {
        "pycharm": {}
      },
      "source": [
        "The reason of the difference of above two images: OpenCV is BGR, Matplotlib is RGB"
      ]
    },
    {
      "cell_type": "markdown",
      "metadata": {
        "pycharm": {}
      },
      "source": [
        "Convert BGR to RGB"
      ]
    },
    {
      "cell_type": "code",
      "execution_count": null,
      "metadata": {
        "pycharm": {}
      },
      "outputs": [],
      "source": [
        "import numpy as np\n",
        "import cv2\n",
        "\n",
        "img_cv2 \u003d cv2.imread(\u0027OIP.jpg\u0027)\n",
        "print(type(img_cv2),img_cv2.shape)\n",
        "\n",
        "# convert, your code here \n",
        "img_rgb \u003d cv2.______(img_cv2, cv2.COLOR_BGR2RGB)\n",
        "\n",
        "fig, (ax1, ax2) \u003d plt.subplots(1,2,figsize\u003d(16,6))\n",
        "fig.suptitle(\u0027Convert BGR to RGB\u0027, fontsize\u003d16)\n",
        "\n",
        "ax1.set_title(\u0027BGR\u0027)\n",
        "ax1.set_xticks([]), ax1.set_yticks([])\n",
        "ax1.imshow(img_cv2)\n",
        "\n",
        "ax2.set_title(\u0027RGB\u0027)\n",
        "ax2.set_xticks([]), ax2.set_yticks([])\n",
        "ax2.imshow(img_rgb)\n",
        "\n",
        "plt.show()"
      ]
    },
    {
      "cell_type": "markdown",
      "metadata": {
        "pycharm": {}
      },
      "source": [
        "### skimage"
      ]
    },
    {
      "cell_type": "code",
      "execution_count": null,
      "metadata": {
        "pycharm": {}
      },
      "outputs": [],
      "source": [
        "from skimage import io, color\n",
        "img \u003d io.imread(\u0027OIP.jpg\u0027)\n",
        "print(type(img),img.shape,img.dtype)\n",
        "io.imshow(img)\n",
        "io.show()"
      ]
    },
    {
      "cell_type": "markdown",
      "metadata": {
        "pycharm": {}
      },
      "source": [
        "### Pillow"
      ]
    },
    {
      "cell_type": "code",
      "execution_count": null,
      "metadata": {
        "pycharm": {}
      },
      "outputs": [],
      "source": [
        "# import pillow\n",
        "from ___ import Image\n",
        "import numpy as np\n",
        "\n",
        "im \u003d Image.open(\"OIP.jpg\")\n",
        "# If successful, this function returns an Image object. \n",
        "\n",
        "print(im.format, im.size, im.mode,type(im))\n",
        "# The format attribute identifies the source of an image. \n",
        "# The size attribute is a 2-tuple containing width and height (in pixels). \n",
        "# The mode attribute defines the number and names of the bands in the image, and also the pixel type and depth. \n",
        "# Common modes are “L” (luminance) for greyscale images, “RGB” for true color images, and “CMYK” for pre-press images.\n",
        "im.show()\n",
        "\n",
        "im_array \u003d np.array(im)\n",
        "print(type(im_array),im_array.shape,im_array.dtype)"
      ]
    },
    {
      "cell_type": "markdown",
      "metadata": {
        "pycharm": {}
      },
      "source": [
        "## Resize"
      ]
    },
    {
      "cell_type": "markdown",
      "metadata": {
        "pycharm": {}
      },
      "source": [
        "### Use OpenCV"
      ]
    },
    {
      "cell_type": "code",
      "execution_count": null,
      "metadata": {
        "pycharm": {}
      },
      "outputs": [],
      "source": [
        "scale_percent \u003d 30\n",
        "width \u003d int(img_rgb.shape[1] * scale_percent / 100)\n",
        "height \u003d int(img_rgb.shape[0] * scale_percent / 100)\n",
        "dim \u003d (width, height)\n",
        "\n",
        "# resize image, your code here\n",
        "resized \u003d cv2.____(img_rgb, ___ , interpolation \u003d cv2.INTER_AREA)\n",
        "\n",
        "print(img_rgb.dtype,img_rgb.shape)\n",
        "print(resized.dtype,resized.shape)\n",
        "\n",
        "fig, (ax1, ax2) \u003d plt.subplots(1,2,figsize\u003d(16,6))\n",
        "fig.suptitle(\u0027Before and After Resize\u0027, fontsize\u003d16)\n",
        "ax1.set_title(\u0027Before\u0027)\n",
        "ax1.imshow(img_rgb)\n",
        "ax2.set_title(\u0027After\u0027)\n",
        "ax2.imshow(resized)\n",
        "plt.show()"
      ]
    },
    {
      "cell_type": "markdown",
      "metadata": {
        "pycharm": {}
      },
      "source": [
        "### Use skimage"
      ]
    },
    {
      "cell_type": "code",
      "execution_count": null,
      "metadata": {
        "pycharm": {}
      },
      "outputs": [],
      "source": [
        "from skimage.transform import resize\n",
        "scale_percent \u003d 20\n",
        "width \u003d int(img_rgb.shape[1] * scale_percent / 100)\n",
        "height \u003d int(img_rgb.shape[0] * scale_percent / 100)\n",
        "\n",
        "img \u003d io.imread(\u0027OIP.jpg\u0027)\n",
        "dim \u003d (height,width, 3)\n",
        "img_skirsz \u003d resize(img,___)\n",
        "print(img_rgb.dtype,img_rgb.shape)\n",
        "print(img_skirsz.dtype,img_skirsz.shape)\n",
        "\n",
        "fig, (ax1, ax2) \u003d plt.subplots(1,2,figsize\u003d(16,6))\n",
        "fig.suptitle(\u0027Before and After Resize\u0027, fontsize\u003d16)\n",
        "ax1.set_title(\u0027Before\u0027)\n",
        "ax1.imshow(img_rgb)\n",
        "ax2.set_title(\u0027After\u0027)\n",
        "ax2.imshow(img_skirsz)\n",
        "plt.show()"
      ]
    },
    {
      "cell_type": "markdown",
      "metadata": {
        "pycharm": {}
      },
      "source": [
        "### Use Pillow"
      ]
    },
    {
      "cell_type": "code",
      "execution_count": null,
      "metadata": {
        "pycharm": {}
      },
      "outputs": [],
      "source": [
        "from PIL import Image\n",
        "im \u003d Image.open(\"OIP.jpg\")\n",
        "img_PIL_rsz \u003d im.resize((64,64))"
      ]
    },
    {
      "cell_type": "code",
      "execution_count": null,
      "metadata": {
        "pycharm": {}
      },
      "outputs": [],
      "source": [
        "print(img_PIL_rsz.size, img_PIL_rsz.mode)"
      ]
    },
    {
      "cell_type": "code",
      "execution_count": null,
      "metadata": {
        "pycharm": {}
      },
      "outputs": [],
      "source": [
        "img_PIL_rsz.show() # Use default image application to show"
      ]
    },
    {
      "cell_type": "markdown",
      "metadata": {
        "pycharm": {}
      },
      "source": [
        "### Change image type from float to unit8"
      ]
    },
    {
      "cell_type": "code",
      "execution_count": null,
      "metadata": {
        "pycharm": {}
      },
      "outputs": [],
      "source": [
        "img \u003d io.imread(\u0027OIP.jpg\u0027)\n",
        "img_skirsz \u003d resize(img,(59,94,3))\n",
        "\n",
        "# your code here\n",
        "img_skirsz_uint8 \u003d img_skirsz * ___ \n",
        "img_skirsz_uint8 \u003d img_skirsz_uint8.astype(_____)\n",
        "\n",
        "print(img_skirsz.dtype, img_skirsz_uint8.dtype)"
      ]
    },
    {
      "cell_type": "code",
      "execution_count": null,
      "metadata": {
        "scrolled": false,
        "pycharm": {}
      },
      "outputs": [],
      "source": [
        "fig, (ax1, ax2) \u003d plt.subplots(1,2,figsize\u003d(16,6))\n",
        "fig.suptitle(\u0027Before and After type change\u0027, fontsize\u003d16)\n",
        "ax1.set_title(\u0027Before\u0027)\n",
        "ax1.imshow(img_skirsz)\n",
        "ax2.set_title(\u0027After\u0027)\n",
        "ax2.imshow(img_skirsz_uint8)\n",
        "plt.show()"
      ]
    },
    {
      "cell_type": "markdown",
      "metadata": {
        "pycharm": {}
      },
      "source": [
        "## Crop image"
      ]
    },
    {
      "cell_type": "markdown",
      "metadata": {
        "pycharm": {}
      },
      "source": [
        "OpenCV"
      ]
    },
    {
      "cell_type": "code",
      "execution_count": null,
      "metadata": {
        "pycharm": {}
      },
      "outputs": [],
      "source": [
        "# set image from row 0 - 200, col 100 - 400\n",
        "x\u003d__\n",
        "w\u003d__\n",
        "y\u003d__\n",
        "h\u003d__\n",
        "crop_image \u003d img_rgb[x:w, y:h]\n",
        "\n",
        "fig, (ax1, ax2) \u003d plt.subplots(1,2,figsize\u003d(12,6))\n",
        "fig.suptitle(\u0027Before and After Crop\u0027, fontsize\u003d16)\n",
        "\n",
        "ax1.set_title(\u0027Before\u0027)\n",
        "ax1.imshow(img_rgb)\n",
        "\n",
        "ax2.set_title(\u0027After\u0027)\n",
        "ax2.imshow(crop_image)\n",
        "plt.show()"
      ]
    },
    {
      "cell_type": "markdown",
      "metadata": {
        "pycharm": {}
      },
      "source": [
        "Pillow"
      ]
    },
    {
      "cell_type": "code",
      "execution_count": null,
      "metadata": {
        "pycharm": {}
      },
      "outputs": [],
      "source": [
        "im \u003d Image.open(\"OIP.jpg\")\n",
        "left \u003d 0\n",
        "top \u003d 50\n",
        "right \u003d 200\n",
        "bottom \u003d 250\n",
        "img_res \u003d im.crop((left, top, right, bottom))  \n",
        "img_res.show() "
      ]
    },
    {
      "cell_type": "code",
      "execution_count": null,
      "metadata": {
        "pycharm": {}
      },
      "outputs": [],
      "source": []
    }
  ],
  "metadata": {
    "kernelspec": {
      "display_name": "Python 3",
      "language": "python",
      "name": "python3"
    },
    "language_info": {
      "codemirror_mode": {
        "name": "ipython",
        "version": 3
      },
      "file_extension": ".py",
      "mimetype": "text/x-python",
      "name": "python",
      "nbconvert_exporter": "python",
      "pygments_lexer": "ipython3",
      "version": "3.8.3"
    }
  },
  "nbformat": 4,
  "nbformat_minor": 4
}